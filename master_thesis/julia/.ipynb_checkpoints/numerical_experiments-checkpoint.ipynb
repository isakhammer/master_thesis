{
 "cells": [
  {
   "cell_type": "code",
   "execution_count": 1,
   "id": "0ab6b529-aec4-4bc8-98d8-7e9453318c9a",
   "metadata": {
    "tags": []
   },
   "outputs": [
    {
     "data": {
      "text/plain": [
       "main (generic function with 1 method)"
      ]
     },
     "execution_count": 1,
     "metadata": {},
     "output_type": "execute_result"
    }
   ],
   "source": [
    "include(\"biharmonic_CIP_nitsche.jl\")"
   ]
  },
  {
   "cell_type": "markdown",
   "id": "88a64707-fc29-4261-9301-e6d9e717bb79",
   "metadata": {
    "tags": []
   },
   "source": [
    "# $u(x,y) = 100cos(m( 2π/L )x)cos(r( 2π/L )y)$ on square"
   ]
  },
  {
   "cell_type": "code",
   "execution_count": 2,
   "id": "f5662d63-6d58-4e61-a354-af4f9d04afce",
   "metadata": {
    "tags": []
   },
   "outputs": [
    {
     "name": "stdout",
     "output_type": "stream",
     "text": [
      "figures/biharmonic_CIP_nitsche/2023-03-21T23:46:18.224\n",
      "Run convergence\n",
      "Run convergence tests: order = 2\n",
      "Generating vtk's in figures/biharmonic_CIP_nitsche/2023-03-21T23:46:18.224/order_2_n_4\n",
      "Generating vtk's in figures/biharmonic_CIP_nitsche/2023-03-21T23:46:18.224/order_2_n_8\n",
      "Generating vtk's in figures/biharmonic_CIP_nitsche/2023-03-21T23:46:18.224/order_2_n_16\n",
      "Generating vtk's in figures/biharmonic_CIP_nitsche/2023-03-21T23:46:18.224/order_2_n_32\n",
      "Generating vtk's in figures/biharmonic_CIP_nitsche/2023-03-21T23:46:18.224/order_2_n_64\n",
      "Generating vtk's in figures/biharmonic_CIP_nitsche/2023-03-21T23:46:18.224/order_2_n_128\n",
      "┌─────┬─────────┬──────┬─────────┬──────┬─────────┬──────┬─────────┬─────────┬───────┐\n",
      "│\u001b[1m   n \u001b[0m│\u001b[1m      L2 \u001b[0m│\u001b[1m  EOC \u001b[0m│\u001b[1m      H1 \u001b[0m│\u001b[1m  EOC \u001b[0m│\u001b[1m     a_h \u001b[0m│\u001b[1m  EOC \u001b[0m│\u001b[1m    cond \u001b[0m│\u001b[1m   const \u001b[0m│\u001b[1m ndofs \u001b[0m│\n",
      "├─────┼─────────┼──────┼─────────┼──────┼─────────┼──────┼─────────┼─────────┼───────┤\n",
      "│   4 │ 5.1E+00 │      │ 6.0E+01 │      │ 1.5E+03 │      │ 1.9E+05 │ 7.5E+02 │    81 │\n",
      "│   8 │ 1.3E+00 │ 2.00 │ 1.5E+01 │ 1.96 │ 6.6E+02 │ 1.15 │ 1.4E+06 │ 3.5E+02 │   289 │\n",
      "│  16 │ 3.2E-01 │ 2.00 │ 3.8E+00 │ 2.00 │ 3.2E+02 │ 1.04 │ 1.1E+07 │ 1.7E+02 │  1089 │\n",
      "│  32 │ 8.0E-02 │ 2.00 │ 9.6E-01 │ 2.00 │ 1.6E+02 │ 1.01 │ 8.8E+07 │ 8.4E+01 │  4225 │\n",
      "│  64 │ 2.0E-02 │ 2.00 │ 2.4E-01 │ 2.00 │ 7.9E+01 │ 1.00 │ 7.0E+08 │ 4.2E+01 │ 16641 │\n",
      "│ 128 │ 5.0E-03 │ 2.00 │ 6.0E-02 │ 2.00 │ 4.0E+01 │ 1.00 │ 5.6E+09 │ 2.1E+01 │ 66049 │\n",
      "└─────┴─────────┴──────┴─────────┴──────┴─────────┴──────┴─────────┴─────────┴───────┘\n",
      "Run convergence tests: order = 3\n",
      "Generating vtk's in figures/biharmonic_CIP_nitsche/2023-03-21T23:46:18.224/order_3_n_4\n",
      "Generating vtk's in figures/biharmonic_CIP_nitsche/2023-03-21T23:46:18.224/order_3_n_8\n",
      "Generating vtk's in figures/biharmonic_CIP_nitsche/2023-03-21T23:46:18.224/order_3_n_16\n",
      "Generating vtk's in figures/biharmonic_CIP_nitsche/2023-03-21T23:46:18.224/order_3_n_32\n",
      "Generating vtk's in figures/biharmonic_CIP_nitsche/2023-03-21T23:46:18.224/order_3_n_64\n",
      "Generating vtk's in figures/biharmonic_CIP_nitsche/2023-03-21T23:46:18.224/order_3_n_128\n",
      "┌─────┬─────────┬───────┬─────────┬──────┬─────────┬──────┬─────────┬─────────┬────────┐\n",
      "│\u001b[1m   n \u001b[0m│\u001b[1m      L2 \u001b[0m│\u001b[1m   EOC \u001b[0m│\u001b[1m      H1 \u001b[0m│\u001b[1m  EOC \u001b[0m│\u001b[1m     a_h \u001b[0m│\u001b[1m  EOC \u001b[0m│\u001b[1m    cond \u001b[0m│\u001b[1m   const \u001b[0m│\u001b[1m  ndofs \u001b[0m│\n",
      "├─────┼─────────┼───────┼─────────┼──────┼─────────┼──────┼─────────┼─────────┼────────┤\n",
      "│   4 │ 3.4E-01 │       │ 7.5E+00 │      │ 3.5E+02 │      │ 1.7E+06 │ 6.8E+03 │    169 │\n",
      "│   8 │ 2.1E-02 │  4.03 │ 9.6E-01 │ 2.96 │ 8.7E+01 │ 2.00 │ 1.3E+07 │ 3.2E+03 │    625 │\n",
      "│  16 │ 1.3E-03 │  3.99 │ 1.2E-01 │ 2.98 │ 2.1E+01 │ 2.03 │ 1.0E+08 │ 1.6E+03 │   2401 │\n",
      "│  32 │ 8.2E-05 │  3.99 │ 1.5E-02 │ 2.98 │ 5.2E+00 │ 2.02 │ 8.3E+08 │ 7.9E+02 │   9409 │\n",
      "│  64 │ 5.2E-06 │  3.97 │ 1.9E-03 │ 2.99 │ 1.3E+00 │ 2.01 │ 6.6E+09 │ 3.9E+02 │  37249 │\n",
      "│ 128 │ 6.8E-05 │ -3.71 │ 2.5E-04 │ 2.94 │ 3.2E-01 │ 2.01 │ 5.2E+10 │ 2.0E+02 │ 148225 │\n",
      "└─────┴─────────┴───────┴─────────┴──────┴─────────┴──────┴─────────┴─────────┴────────┘\n",
      "Run convergence tests: order = 4\n",
      "Generating vtk's in figures/biharmonic_CIP_nitsche/2023-03-21T23:46:18.224/order_4_n_4\n",
      "Generating vtk's in figures/biharmonic_CIP_nitsche/2023-03-21T23:46:18.224/order_4_n_8\n",
      "Generating vtk's in figures/biharmonic_CIP_nitsche/2023-03-21T23:46:18.224/order_4_n_16\n",
      "Generating vtk's in figures/biharmonic_CIP_nitsche/2023-03-21T23:46:18.224/order_4_n_32\n",
      "Generating vtk's in figures/biharmonic_CIP_nitsche/2023-03-21T23:46:18.224/order_4_n_64\n",
      "Generating vtk's in figures/biharmonic_CIP_nitsche/2023-03-21T23:46:18.224/order_4_n_128\n",
      "┌─────┬─────────┬───────┬─────────┬───────┬─────────┬──────┬─────────┬─────────┬────────┐\n",
      "│\u001b[1m   n \u001b[0m│\u001b[1m      L2 \u001b[0m│\u001b[1m   EOC \u001b[0m│\u001b[1m      H1 \u001b[0m│\u001b[1m   EOC \u001b[0m│\u001b[1m     a_h \u001b[0m│\u001b[1m  EOC \u001b[0m│\u001b[1m    cond \u001b[0m│\u001b[1m   const \u001b[0m│\u001b[1m  ndofs \u001b[0m│\n",
      "├─────┼─────────┼───────┼─────────┼───────┼─────────┼──────┼─────────┼─────────┼────────┤\n",
      "│   4 │ 2.4E-02 │       │ 7.7E-01 │       │ 4.2E+01 │      │ 1.4E+07 │ 5.6E+04 │    289 │\n",
      "│   8 │ 9.6E-04 │  4.67 │ 5.4E-02 │  3.84 │ 4.5E+00 │ 3.22 │ 1.1E+08 │ 2.7E+04 │   1089 │\n",
      "│  16 │ 3.2E-05 │  4.92 │ 3.5E-03 │  3.96 │ 5.4E-01 │ 3.07 │ 8.8E+08 │ 1.3E+04 │   4225 │\n",
      "│  32 │ 1.1E-05 │  1.50 │ 2.2E-04 │  3.99 │ 6.7E-02 │ 3.02 │ 7.0E+09 │ 6.7E+03 │  16641 │\n",
      "│  64 │ 1.0E-04 │ -3.17 │ 1.0E-04 │  1.08 │ 8.3E-03 │ 3.00 │ 5.6E+10 │ 3.3E+03 │  66049 │\n",
      "│ 128 │ 2.2E-04 │ -1.09 │ 2.5E-04 │ -1.28 │ 1.5E-03 │ 2.43 │ 4.4E+11 │ 1.7E+03 │ 263169 │\n",
      "└─────┴─────────┴───────┴─────────┴───────┴─────────┴──────┴─────────┴─────────┴────────┘\n",
      "543.049610 seconds (917.34 M allocations: 74.048 GiB, 4.90% gc time, 51.97% compilation time: 2% of which was recompilation)\n"
     ]
    },
    {
     "name": "stderr",
     "output_type": "stream",
     "text": [
      "sys:1: UserWarning: No data for colormapping provided via 'c'. Parameters 'vmin', 'vmax' will be ignored\n"
     ]
    },
    {
     "data": {
      "image/png": "[encoded data removed]",
      "text/plain": [
       "PyPlot.Figure(PyObject <Figure size 3600x2400 with 1 Axes>)"
      ]
     },
     "metadata": {},
     "output_type": "display_data"
    }
   ],
   "source": [
    "L, m, r = (1, 1, 1)\n",
    "u_ex(x) = 100*cos(m*( 2π/L )*x[1])*cos(r*( 2π/L )*x[2])\n",
    "exact_sol = Solver.man_sol(u_ex)\n",
    "circle = false\n",
    "\n",
    "solver_config = Solver.Config(exact_sol,circle)\n",
    "\n",
    "resultdir= \"figures/biharmonic_CIP_nitsche/\"*string(Dates.now())\n",
    "println(resultdir)\n",
    "mkpath(resultdir)\n",
    "\n",
    "orders = [2,3,4]\n",
    "ns = [2^2, 2^3, 2^4, 2^5, 2^6, 2^7]\n",
    "\n",
    "@time convergence_analysis( orders=orders, ns=ns, solver_config=solver_config, dirname=resultdir)\n"
   ]
  },
  {
   "cell_type": "code",
   "execution_count": null,
   "id": "ea14ef0a-3dd8-46b7-80cf-080b9771df52",
   "metadata": {},
   "outputs": [],
   "source": [
    "L, m, r = (1, 1, 1)\n",
    "#u_ex(x) = 100*cos(m*( 2π/L )*x[1])*cos(r*( 2π/L )*x[2])\n",
    "u_ex(x) = 100*sin(m*( 2π/L )*x[1])*cos(r*( 2π/L )*x[2])\n",
    "\n",
    "exact_sol = Solver.man_sol(u_ex)\n",
    "circle = false\n",
    "\n",
    "solver_config = Solver.Config(exact_sol,circle)\n",
    "\n",
    "resultdir= \"figures/biharmonic_CIP_nitsche/\"*string(Dates.now())\n",
    "println(resultdir)\n",
    "mkpath(resultdir)\n",
    "\n",
    "orders = [2,3,4]\n",
    "ns = [2^2, 2^3, 2^4, 2^5, 2^6, 2^7]\n",
    "\n",
    "@time convergence_analysis( orders=orders, ns=ns, solver_config=solver_config, dirname=resultdir)\n"
   ]
  },
  {
   "cell_type": "markdown",
   "id": "fc52f6ca-155d-4f40-ab85-bda38ab06b89",
   "metadata": {
    "tags": []
   },
   "source": [
    "# $u(x,y) = (x^2 + y^2  - 1)^2sin(2πx)cos(2π y) $ on Circle"
   ]
  },
  {
   "cell_type": "code",
   "execution_count": null,
   "id": "0ee5648d-7b2d-4844-ba25-ea25fc0b4a2b",
   "metadata": {
    "tags": []
   },
   "outputs": [
    {
     "name": "stdout",
     "output_type": "stream",
     "text": [
      "figures/biharmonic_CIP_nitsche/cicle_2023-03-22T10:14:19.972\n",
      "Run convergence\n",
      "Run convergence tests: order = 2\n",
      "Info    : Reading 'circle/circle_1.msh'...\n",
      "Info    : 3 entities\n",
      "Info    : 60 nodes\n",
      "Info    : 119 elements\n",
      "Info    : Done reading 'circle/circle_1.msh'\n",
      "Generating vtk's in figures/biharmonic_CIP_nitsche/cicle_2023-03-22T10:14:19.972/order_2_n_4\n",
      "Info    : Reading 'circle/circle_2.msh'...\n",
      "Info    : 3 entities\n",
      "Info    : 214 nodes\n",
      "Info    : 427 elements\n",
      "Info    : Done reading 'circle/circle_2.msh'\n",
      "Generating vtk's in figures/biharmonic_CIP_nitsche/cicle_2023-03-22T10:14:19.972/order_2_n_8\n",
      "Info    : Reading 'circle/circle_3.msh'...\n",
      "Info    : 3 entities\n",
      "Info    : 807 nodes\n",
      "Info    : 1613 elements\n",
      "Info    : Done reading 'circle/circle_3.msh'\n",
      "Generating vtk's in figures/biharmonic_CIP_nitsche/cicle_2023-03-22T10:14:19.972/order_2_n_16\n",
      "Info    : Reading 'circle/circle_4.msh'...\n",
      "Info    : 3 entities\n",
      "Info    : 3133 nodes\n",
      "Info    : 6265 elements\n",
      "Info    : Done reading 'circle/circle_4.msh'\n",
      "Generating vtk's in figures/biharmonic_CIP_nitsche/cicle_2023-03-22T10:14:19.972/order_2_n_32\n",
      "Info    : Reading 'circle/circle_5.msh'...\n",
      "Info    : 3 entities\n",
      "Info    : 12345 nodes\n",
      "Info    : 24689 elements\n",
      "Info    : Done reading 'circle/circle_5.msh'\n",
      "Generating vtk's in figures/biharmonic_CIP_nitsche/cicle_2023-03-22T10:14:19.972/order_2_n_64\n",
      "Info    : Reading 'circle/circle_6.msh'...\n",
      "Info    : 3 entities\n",
      "Info    : 49009 nodes\n",
      "Info    : 98017 elements\n",
      "Info    : Done reading 'circle/circle_6.msh'\n",
      "Generating vtk's in figures/biharmonic_CIP_nitsche/cicle_2023-03-22T10:14:19.972/order_2_n_128\n",
      "┌─────┬─────────┬──────┬─────────┬──────┬─────────┬──────┬─────────┬─────────┬────────┐\n",
      "│\u001b[1m   n \u001b[0m│\u001b[1m      L2 \u001b[0m│\u001b[1m  EOC \u001b[0m│\u001b[1m      H1 \u001b[0m│\u001b[1m  EOC \u001b[0m│\u001b[1m     a_h \u001b[0m│\u001b[1m  EOC \u001b[0m│\u001b[1m    cond \u001b[0m│\u001b[1m   const \u001b[0m│\u001b[1m  ndofs \u001b[0m│\n",
      "├─────┼─────────┼──────┼─────────┼──────┼─────────┼──────┼─────────┼─────────┼────────┤\n",
      "│   4 │ 1.5E-01 │      │ 1.2E+00 │      │ 3.2E+01 │      │ 6.4E+04 │ 2.5E+02 │    214 │\n",
      "│   8 │ 4.1E-02 │ 1.86 │ 4.5E-01 │ 1.41 │ 1.7E+01 │ 0.94 │ 5.3E+05 │ 1.3E+02 │    807 │\n",
      "│  16 │ 1.2E-02 │ 1.72 │ 1.4E-01 │ 1.72 │ 8.1E+00 │ 1.04 │ 4.2E+06 │ 6.4E+01 │   3133 │\n",
      "│  32 │ 3.3E-03 │ 1.90 │ 3.6E-02 │ 1.90 │ 4.0E+00 │ 1.03 │ 3.4E+07 │ 3.2E+01 │  12345 │\n",
      "│  64 │ 8.6E-04 │ 1.96 │ 9.3E-03 │ 1.96 │ 2.0E+00 │ 1.01 │ 2.8E+08 │ 1.6E+01 │  49009 │\n",
      "│ 128 │ 2.2E-04 │ 1.95 │ 2.4E-03 │ 1.98 │ 9.8E-01 │ 1.01 │ 2.2E+09 │ 8.4E+00 │ 195297 │\n",
      "└─────┴─────────┴──────┴─────────┴──────┴─────────┴──────┴─────────┴─────────┴────────┘\n",
      "Run convergence tests: order = 3\n",
      "Info    : Reading 'circle/circle_1.msh'...\n",
      "Info    : 3 entities\n",
      "Info    : 60 nodes\n",
      "Info    : 119 elements\n",
      "Info    : Done reading 'circle/circle_1.msh'\n",
      "Generating vtk's in figures/biharmonic_CIP_nitsche/cicle_2023-03-22T10:14:19.972/order_3_n_4\n",
      "Info    : Reading 'circle/circle_2.msh'...\n",
      "Info    : 3 entities\n",
      "Info    : 214 nodes\n",
      "Info    : 427 elements\n",
      "Info    : Done reading 'circle/circle_2.msh'\n",
      "Generating vtk's in figures/biharmonic_CIP_nitsche/cicle_2023-03-22T10:14:19.972/order_3_n_8\n",
      "Info    : Reading 'circle/circle_3.msh'...\n",
      "Info    : 3 entities\n",
      "Info    : 807 nodes\n",
      "Info    : 1613 elements\n",
      "Info    : Done reading 'circle/circle_3.msh'\n",
      "Generating vtk's in figures/biharmonic_CIP_nitsche/cicle_2023-03-22T10:14:19.972/order_3_n_16\n",
      "Info    : Reading 'circle/circle_4.msh'...\n",
      "Info    : 3 entities\n",
      "Info    : 3133 nodes\n",
      "Info    : 6265 elements\n",
      "Info    : Done reading 'circle/circle_4.msh'\n",
      "Generating vtk's in figures/biharmonic_CIP_nitsche/cicle_2023-03-22T10:14:19.972/order_3_n_32\n",
      "Info    : Reading 'circle/circle_5.msh'...\n",
      "Info    : 3 entities\n",
      "Info    : 12345 nodes\n",
      "Info    : 24689 elements\n",
      "Info    : Done reading 'circle/circle_5.msh'\n",
      "Generating vtk's in figures/biharmonic_CIP_nitsche/cicle_2023-03-22T10:14:19.972/order_3_n_64\n",
      "Info    : Reading 'circle/circle_6.msh'...\n",
      "Info    : 3 entities\n",
      "Info    : 49009 nodes\n",
      "Info    : 98017 elements\n",
      "Info    : Done reading 'circle/circle_6.msh'\n",
      "Generating vtk's in figures/biharmonic_CIP_nitsche/cicle_2023-03-22T10:14:19.972/order_3_n_128\n",
      "┌─────┬─────────┬───────┬─────────┬──────┬─────────┬──────┬─────────┬─────────┬────────┐\n",
      "│\u001b[1m   n \u001b[0m│\u001b[1m      L2 \u001b[0m│\u001b[1m   EOC \u001b[0m│\u001b[1m      H1 \u001b[0m│\u001b[1m  EOC \u001b[0m│\u001b[1m     a_h \u001b[0m│\u001b[1m  EOC \u001b[0m│\u001b[1m    cond \u001b[0m│\u001b[1m   const \u001b[0m│\u001b[1m  ndofs \u001b[0m│\n",
      "├─────┼─────────┼───────┼─────────┼──────┼─────────┼──────┼─────────┼─────────┼────────┤\n",
      "│   4 │ 1.8E-02 │       │ 2.5E-01 │      │ 1.1E+01 │      │ 5.2E+05 │ 2.0E+03 │    463 │\n",
      "│   8 │ 2.1E-03 │  3.11 │ 3.4E-02 │ 2.92 │ 3.6E+00 │ 1.61 │ 4.1E+06 │ 1.0E+03 │   1780 │\n",
      "│  16 │ 3.9E-04 │  2.46 │ 4.1E-03 │ 3.05 │ 9.3E-01 │ 1.97 │ 3.3E+07 │ 5.0E+02 │   6979 │\n",
      "│  32 │ 9.3E-05 │  2.06 │ 5.4E-04 │ 2.90 │ 2.3E-01 │ 2.00 │ 2.7E+08 │ 2.6E+02 │  27637 │\n",
      "│  64 │ 2.3E-05 │  1.99 │ 8.9E-05 │ 2.61 │ 5.8E-02 │ 2.00 │ 2.2E+09 │ 1.3E+02 │ 109993 │\n",
      "│ 128 │ 2.3E-05 │ -0.01 │ 6.7E-05 │ 0.39 │ 1.5E-02 │ 1.99 │ 1.8E+10 │ 6.7E+01 │ 438865 │\n",
      "└─────┴─────────┴───────┴─────────┴──────┴─────────┴──────┴─────────┴─────────┴────────┘\n",
      "Run convergence tests: order = 4\n",
      "Info    : Reading 'circle/circle_1.msh'...\n",
      "Info    : 3 entities\n",
      "Info    : 60 nodes\n",
      "Info    : 119 elements\n",
      "Info    : Done reading 'circle/circle_1.msh'\n",
      "Generating vtk's in figures/biharmonic_CIP_nitsche/cicle_2023-03-22T10:14:19.972/order_4_n_4\n",
      "Info    : Reading 'circle/circle_2.msh'...\n",
      "Info    : 3 entities\n",
      "Info    : 214 nodes\n",
      "Info    : 427 elements\n",
      "Info    : Done reading 'circle/circle_2.msh'\n",
      "Generating vtk's in figures/biharmonic_CIP_nitsche/cicle_2023-03-22T10:14:19.972/order_4_n_8\n",
      "Info    : Reading 'circle/circle_3.msh'...\n",
      "Info    : 3 entities\n",
      "Info    : 807 nodes\n",
      "Info    : 1613 elements\n",
      "Info    : Done reading 'circle/circle_3.msh'\n",
      "Generating vtk's in figures/biharmonic_CIP_nitsche/cicle_2023-03-22T10:14:19.972/order_4_n_16\n",
      "Info    : Reading 'circle/circle_4.msh'...\n",
      "Info    : 3 entities\n",
      "Info    : 3133 nodes\n",
      "Info    : 6265 elements\n",
      "Info    : Done reading 'circle/circle_4.msh'\n",
      "Generating vtk's in figures/biharmonic_CIP_nitsche/cicle_2023-03-22T10:14:19.972/order_4_n_32\n"
     ]
    }
   ],
   "source": [
    "\n",
    "# %% Manufactured solution\n",
    "L, m, r = (1, 1, 1)\n",
    "u_ex(x) = (x[1]^2 + x[2]^2  - 1)^2*sin(2π*x[1])*cos(2π*x[2])\n",
    "# u_ex(x) = 100*sin(m*( 2π/L )*x[1])*cos(r*( 2π/L )*x[2])\n",
    "exact_sol = Solver.man_sol(u_ex)\n",
    "circle = true\n",
    "solver_config = Solver.Config(exact_sol, circle)\n",
    "\n",
    "resultdir= \"figures/biharmonic_CIP_nitsche/\"*\"cicle_\"*string(Dates.now())\n",
    "println(resultdir)\n",
    "mkpath(resultdir)\n",
    "\n",
    "orders = [2,3,4]\n",
    "# ns = [2^2, 2^3, 2^4, 2^5]\n",
    "ns = [2^2, 2^3, 2^4, 2^5, 2^6, 2^7]\n",
    "@time convergence_analysis( orders=orders, ns=ns, solver_config=solver_config, dirname=resultdir)\n"
   ]
  },
  {
   "cell_type": "markdown",
   "id": "e99bfe26-08b5-4857-80a7-af67e5ff24d9",
   "metadata": {
    "tags": []
   },
   "source": [
    "# $u(x,y) = 100sin(m( 2π/L )x)cos(r( 2π/L )y)$ on square"
   ]
  },
  {
   "cell_type": "code",
   "execution_count": 4,
   "id": "932d6553-3f30-48e4-9fb7-2a7862dc9ec7",
   "metadata": {
    "tags": []
   },
   "outputs": [
    {
     "name": "stdout",
     "output_type": "stream",
     "text": [
      "figures/biharmonic_CIP_nitsche/2023-03-21T23:55:24.178\n",
      "Run convergence\n",
      "Run convergence tests: order = 2\n",
      "Generating vtk's in figures/biharmonic_CIP_nitsche/2023-03-21T23:55:24.178/order_2_n_4\n",
      "Generating vtk's in figures/biharmonic_CIP_nitsche/2023-03-21T23:55:24.178/order_2_n_8\n",
      "Generating vtk's in figures/biharmonic_CIP_nitsche/2023-03-21T23:55:24.178/order_2_n_16\n",
      "Generating vtk's in figures/biharmonic_CIP_nitsche/2023-03-21T23:55:24.178/order_2_n_32\n",
      "Generating vtk's in figures/biharmonic_CIP_nitsche/2023-03-21T23:55:24.178/order_2_n_64\n",
      "Generating vtk's in figures/biharmonic_CIP_nitsche/2023-03-21T23:55:24.178/order_2_n_128\n",
      "┌─────┬─────────┬───────┬─────────┬───────┬─────────┬──────┬─────────┬─────────┬───────┐\n",
      "│\u001b[1m   n \u001b[0m│\u001b[1m      L2 \u001b[0m│\u001b[1m   EOC \u001b[0m│\u001b[1m      H1 \u001b[0m│\u001b[1m   EOC \u001b[0m│\u001b[1m     a_h \u001b[0m│\u001b[1m  EOC \u001b[0m│\u001b[1m    cond \u001b[0m│\u001b[1m   const \u001b[0m│\u001b[1m ndofs \u001b[0m│\n",
      "├─────┼─────────┼───────┼─────────┼───────┼─────────┼──────┼─────────┼─────────┼───────┤\n",
      "│   4 │ 1.4E+01 │       │ 1.2E+02 │       │ 1.8E+03 │      │ 1.9E+05 │ 7.5E+02 │    81 │\n",
      "│   8 │ 1.9E+01 │ -0.42 │ 1.4E+02 │ -0.21 │ 1.3E+03 │ 0.47 │ 1.4E+06 │ 3.5E+02 │   289 │\n",
      "│  16 │ 2.0E+01 │ -0.11 │ 1.5E+02 │ -0.09 │ 1.2E+03 │ 0.13 │ 1.1E+07 │ 1.7E+02 │  1089 │\n",
      "│  32 │ 2.0E+01 │ -0.03 │ 1.5E+02 │ -0.02 │ 1.2E+03 │ 0.03 │ 8.8E+07 │ 8.4E+01 │  4225 │\n",
      "│  64 │ 2.1E+01 │ -0.01 │ 1.5E+02 │ -0.01 │ 1.1E+03 │ 0.01 │ 7.0E+08 │ 4.2E+01 │ 16641 │\n",
      "│ 128 │ 2.1E+01 │ -0.00 │ 1.5E+02 │ -0.00 │ 1.1E+03 │ 0.00 │ 5.6E+09 │ 2.1E+01 │ 66049 │\n",
      "└─────┴─────────┴───────┴─────────┴───────┴─────────┴──────┴─────────┴─────────┴───────┘\n",
      "Run convergence tests: order = 3\n",
      "Generating vtk's in figures/biharmonic_CIP_nitsche/2023-03-21T23:55:24.178/order_3_n_4\n",
      "Generating vtk's in figures/biharmonic_CIP_nitsche/2023-03-21T23:55:24.178/order_3_n_8\n",
      "Generating vtk's in figures/biharmonic_CIP_nitsche/2023-03-21T23:55:24.178/order_3_n_16\n",
      "Generating vtk's in figures/biharmonic_CIP_nitsche/2023-03-21T23:55:24.178/order_3_n_32\n",
      "Generating vtk's in figures/biharmonic_CIP_nitsche/2023-03-21T23:55:24.178/order_3_n_64\n",
      "Generating vtk's in figures/biharmonic_CIP_nitsche/2023-03-21T23:55:24.178/order_3_n_128\n",
      "┌─────┬─────────┬───────┬─────────┬───────┬─────────┬──────┬─────────┬─────────┬────────┐\n",
      "│\u001b[1m   n \u001b[0m│\u001b[1m      L2 \u001b[0m│\u001b[1m   EOC \u001b[0m│\u001b[1m      H1 \u001b[0m│\u001b[1m   EOC \u001b[0m│\u001b[1m     a_h \u001b[0m│\u001b[1m  EOC \u001b[0m│\u001b[1m    cond \u001b[0m│\u001b[1m   const \u001b[0m│\u001b[1m  ndofs \u001b[0m│\n",
      "├─────┼─────────┼───────┼─────────┼───────┼─────────┼──────┼─────────┼─────────┼────────┤\n",
      "│   4 │ 2.0E+01 │       │ 1.5E+02 │       │ 1.2E+03 │      │ 1.7E+06 │ 6.8E+03 │    169 │\n",
      "│   8 │ 2.1E+01 │ -0.01 │ 1.5E+02 │ -0.01 │ 1.1E+03 │ 0.12 │ 1.3E+07 │ 3.2E+03 │    625 │\n",
      "│  16 │ 2.1E+01 │ -0.00 │ 1.5E+02 │ -0.00 │ 1.1E+03 │ 0.02 │ 1.0E+08 │ 1.6E+03 │   2401 │\n",
      "│  32 │ 2.1E+01 │ -0.00 │ 1.5E+02 │ -0.00 │ 1.1E+03 │ 0.01 │ 8.3E+08 │ 7.9E+02 │   9409 │\n",
      "│  64 │ 2.1E+01 │ -0.00 │ 1.5E+02 │ -0.00 │ 1.1E+03 │ 0.00 │ 6.6E+09 │ 3.9E+02 │  37249 │\n",
      "│ 128 │ 2.1E+01 │ -0.00 │ 1.5E+02 │ -0.00 │ 1.1E+03 │ 0.00 │ 5.2E+10 │ 2.0E+02 │ 148225 │\n",
      "└─────┴─────────┴───────┴─────────┴───────┴─────────┴──────┴─────────┴─────────┴────────┘\n",
      "Run convergence tests: order = 4\n",
      "Generating vtk's in figures/biharmonic_CIP_nitsche/2023-03-21T23:55:24.178/order_4_n_4\n",
      "Generating vtk's in figures/biharmonic_CIP_nitsche/2023-03-21T23:55:24.178/order_4_n_8\n",
      "Generating vtk's in figures/biharmonic_CIP_nitsche/2023-03-21T23:55:24.178/order_4_n_16\n",
      "Generating vtk's in figures/biharmonic_CIP_nitsche/2023-03-21T23:55:24.178/order_4_n_32\n",
      "Generating vtk's in figures/biharmonic_CIP_nitsche/2023-03-21T23:55:24.178/order_4_n_64\n",
      "Generating vtk's in figures/biharmonic_CIP_nitsche/2023-03-21T23:55:24.178/order_4_n_128\n",
      "┌─────┬─────────┬───────┬─────────┬───────┬─────────┬──────┬─────────┬─────────┬────────┐\n",
      "│\u001b[1m   n \u001b[0m│\u001b[1m      L2 \u001b[0m│\u001b[1m   EOC \u001b[0m│\u001b[1m      H1 \u001b[0m│\u001b[1m   EOC \u001b[0m│\u001b[1m     a_h \u001b[0m│\u001b[1m  EOC \u001b[0m│\u001b[1m    cond \u001b[0m│\u001b[1m   const \u001b[0m│\u001b[1m  ndofs \u001b[0m│\n",
      "├─────┼─────────┼───────┼─────────┼───────┼─────────┼──────┼─────────┼─────────┼────────┤\n",
      "│   4 │ 2.1E+01 │       │ 1.5E+02 │       │ 1.1E+03 │      │ 1.4E+07 │ 5.6E+04 │    289 │\n",
      "│   8 │ 2.1E+01 │ -0.00 │ 1.5E+02 │ -0.00 │ 1.1E+03 │ 0.01 │ 1.1E+08 │ 2.7E+04 │   1089 │\n",
      "│  16 │ 2.1E+01 │ -0.00 │ 1.5E+02 │ -0.00 │ 1.1E+03 │ 0.01 │ 8.8E+08 │ 1.3E+04 │   4225 │\n",
      "│  32 │ 2.1E+01 │ -0.00 │ 1.5E+02 │  0.00 │ 1.1E+03 │ 0.00 │ 7.0E+09 │ 6.7E+03 │  16641 │\n",
      "│  64 │ 2.1E+01 │  0.00 │ 1.5E+02 │  0.00 │ 1.1E+03 │ 0.00 │ 5.6E+10 │ 3.3E+03 │  66049 │\n",
      "│ 128 │ 2.1E+01 │  0.00 │ 1.5E+02 │  0.00 │ 1.1E+03 │ 0.00 │ 4.4E+11 │ 1.7E+03 │ 263169 │\n",
      "└─────┴─────────┴───────┴─────────┴───────┴─────────┴──────┴─────────┴─────────┴────────┘\n",
      "247.694702 seconds (588.49 M allocations: 56.238 GiB, 3.48% gc time, 21.28% compilation time: 98% of which was recompilation)\n"
     ]
    },
    {
     "data": {
      "image/png": "[encoded data removed]",
      "text/plain": [
       "PyPlot.Figure(PyObject <Figure size 3600x2400 with 1 Axes>)"
      ]
     },
     "metadata": {},
     "output_type": "display_data"
    }
   ],
   "source": []
  },
  {
   "cell_type": "code",
   "execution_count": null,
   "id": "399144e5-cc41-42d2-b35b-e31cbb1428ee",
   "metadata": {},
   "outputs": [],
   "source": []
  }
 ],
 "metadata": {
  "kernelspec": {
   "display_name": "Julia 1.8.5",
   "language": "julia",
   "name": "julia-1.8"
  },
  "language_info": {
   "file_extension": ".jl",
   "mimetype": "application/julia",
   "name": "julia",
   "version": "1.8.5"
  }
 },
 "nbformat": 4,
 "nbformat_minor": 5
}
