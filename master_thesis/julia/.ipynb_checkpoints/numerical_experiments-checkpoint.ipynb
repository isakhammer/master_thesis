{
 "cells": [
  {
   "cell_type": "code",
   "execution_count": 6,
   "id": "0ab6b529-aec4-4bc8-98d8-7e9453318c9a",
   "metadata": {
    "tags": []
   },
   "outputs": [
    {
     "name": "stderr",
     "output_type": "stream",
     "text": [
      "WARNING: replacing module Solver.\n"
     ]
    }
   ],
   "source": [
    "include(\"biharmonic_CIP_nitsche.jl\")"
   ]
  },
  {
   "cell_type": "code",
   "execution_count": null,
   "id": "f5662d63-6d58-4e61-a354-af4f9d04afce",
   "metadata": {
    "tags": []
   },
   "outputs": [
    {
     "name": "stdout",
     "output_type": "stream",
     "text": [
      "figures/biharmonic_CIP_nitsche/2023-03-20T20:37:07.565\n",
      "Run convergence\n",
      "Run convergence tests: order = 2\n",
      "Generating vtk's in figures/biharmonic_CIP_nitsche/2023-03-20T20:37:07.565/order_2_n_4\n",
      "Generating vtk's in figures/biharmonic_CIP_nitsche/2023-03-20T20:37:07.565/order_2_n_8\n",
      "Generating vtk's in figures/biharmonic_CIP_nitsche/2023-03-20T20:37:07.565/order_2_n_16\n",
      "Generating vtk's in figures/biharmonic_CIP_nitsche/2023-03-20T20:37:07.565/order_2_n_32\n",
      "Generating vtk's in figures/biharmonic_CIP_nitsche/2023-03-20T20:37:07.565/order_2_n_64\n",
      "Generating vtk's in figures/biharmonic_CIP_nitsche/2023-03-20T20:37:07.565/order_2_n_128\n",
      "┌─────┬─────────┬──────┬─────────┬──────┬─────────┬──────┬─────────┬─────────┬───────┐\n",
      "│\u001b[1m   n \u001b[0m│\u001b[1m      L2 \u001b[0m│\u001b[1m  EOC \u001b[0m│\u001b[1m      H1 \u001b[0m│\u001b[1m  EOC \u001b[0m│\u001b[1m     a_h \u001b[0m│\u001b[1m  EOC \u001b[0m│\u001b[1m    cond \u001b[0m│\u001b[1m   const \u001b[0m│\u001b[1m ndofs \u001b[0m│\n",
      "├─────┼─────────┼──────┼─────────┼──────┼─────────┼──────┼─────────┼─────────┼───────┤\n",
      "│   4 │ 2.9E+01 │      │ 2.3E+02 │      │ 3.3E+03 │      │ 2.8E+05 │ 1.1E+03 │    81 │\n",
      "│   8 │ 1.5E+01 │ 1.02 │ 1.2E+02 │ 0.97 │ 2.2E+03 │ 0.60 │ 2.1E+06 │ 5.2E+02 │   289 │\n",
      "│  16 │ 4.9E+00 │ 1.57 │ 4.1E+01 │ 1.53 │ 1.2E+03 │ 0.86 │ 1.6E+07 │ 2.5E+02 │  1089 │\n",
      "│  32 │ 1.4E+00 │ 1.85 │ 1.1E+01 │ 1.84 │ 6.2E+02 │ 0.96 │ 1.3E+08 │ 1.2E+02 │  4225 │\n",
      "│  64 │ 3.5E-01 │ 1.96 │ 3.0E+00 │ 1.95 │ 3.1E+02 │ 0.99 │ 1.0E+09 │ 6.1E+01 │ 16641 │\n",
      "│ 128 │ 8.8E-02 │ 1.99 │ 7.5E-01 │ 1.98 │ 1.6E+02 │ 1.00 │ 8.2E+09 │ 3.0E+01 │ 66049 │\n",
      "└─────┴─────────┴──────┴─────────┴──────┴─────────┴──────┴─────────┴─────────┴───────┘\n",
      "Run convergence tests: order = 3\n",
      "Generating vtk's in figures/biharmonic_CIP_nitsche/2023-03-20T20:37:07.565/order_3_n_4\n",
      "Generating vtk's in figures/biharmonic_CIP_nitsche/2023-03-20T20:37:07.565/order_3_n_8\n",
      "Generating vtk's in figures/biharmonic_CIP_nitsche/2023-03-20T20:37:07.565/order_3_n_16\n",
      "Generating vtk's in figures/biharmonic_CIP_nitsche/2023-03-20T20:37:07.565/order_3_n_32\n",
      "Generating vtk's in figures/biharmonic_CIP_nitsche/2023-03-20T20:37:07.565/order_3_n_64\n",
      "Generating vtk's in figures/biharmonic_CIP_nitsche/2023-03-20T20:37:07.565/order_3_n_128\n",
      "┌─────┬─────────┬──────┬─────────┬──────┬─────────┬──────┬─────────┬─────────┬────────┐\n",
      "│\u001b[1m   n \u001b[0m│\u001b[1m      L2 \u001b[0m│\u001b[1m  EOC \u001b[0m│\u001b[1m      H1 \u001b[0m│\u001b[1m  EOC \u001b[0m│\u001b[1m     a_h \u001b[0m│\u001b[1m  EOC \u001b[0m│\u001b[1m    cond \u001b[0m│\u001b[1m   const \u001b[0m│\u001b[1m  ndofs \u001b[0m│\n",
      "├─────┼─────────┼──────┼─────────┼──────┼─────────┼──────┼─────────┼─────────┼────────┤\n",
      "│   4 │ 4.1E+00 │      │ 4.2E+01 │      │ 1.2E+03 │      │ 2.4E+06 │ 9.3E+03 │    169 │\n",
      "│   8 │ 3.8E-01 │ 3.46 │ 4.8E+00 │ 3.15 │ 3.4E+02 │ 1.76 │ 1.8E+07 │ 4.5E+03 │    625 │\n",
      "│  16 │ 2.7E-02 │ 3.80 │ 5.0E-01 │ 3.26 │ 9.2E+01 │ 1.89 │ 1.4E+08 │ 2.2E+03 │   2401 │\n",
      "│  32 │ 1.8E-03 │ 3.93 │ 5.6E-02 │ 3.14 │ 2.4E+01 │ 1.96 │ 1.1E+09 │ 1.1E+03 │   9409 │\n",
      "│  64 │ 1.1E-04 │ 3.97 │ 6.8E-03 │ 3.05 │ 5.9E+00 │ 1.99 │ 9.0E+09 │ 5.4E+02 │  37249 │\n",
      "│ 128 │ 7.2E-05 │ 0.66 │ 8.5E-04 │ 3.01 │ 1.5E+00 │ 1.99 │ 7.2E+10 │ 2.7E+02 │ 148225 │\n",
      "└─────┴─────────┴──────┴─────────┴──────┴─────────┴──────┴─────────┴─────────┴────────┘\n",
      "Run convergence tests: order = 4\n",
      "Generating vtk's in figures/biharmonic_CIP_nitsche/2023-03-20T20:37:07.565/order_4_n_4\n",
      "Generating vtk's in figures/biharmonic_CIP_nitsche/2023-03-20T20:37:07.565/order_4_n_8\n",
      "Generating vtk's in figures/biharmonic_CIP_nitsche/2023-03-20T20:37:07.565/order_4_n_16\n",
      "Generating vtk's in figures/biharmonic_CIP_nitsche/2023-03-20T20:37:07.565/order_4_n_32\n"
     ]
    }
   ],
   "source": [
    "L, m, r = (1, 1, 1)\n",
    "# u_ex(x) = (x[1]^2 + x[2]^2  - 1)*sin(2π*x[1])*cos(2π*x[2])\n",
    "# u_ex(x) = 100*sin(m*( 2π/L )*x[1])*cos(r*( 2π/L )*x[2])\n",
    "u_ex(x) = 100*cos(m*( 2π/L )*x[1])*cos(r*( 2π/L )*x[2])\n",
    "exact_sol = Solver.man_sol(u_ex)\n",
    "solver_config = Solver.Config(exact_sol)\n",
    "\n",
    "resultdir= \"figures/biharmonic_CIP_nitsche/\"*string(Dates.now())\n",
    "println(resultdir)\n",
    "mkpath(resultdir)\n",
    "\n",
    "orders = [2,3,4]\n",
    "ns = [2^2, 2^3, 2^4, 2^5, 2^6, 2^7]\n",
    "\n",
    "@time convergence_analysis( orders=orders, ns=ns, solver_config=solver_config, dirname=resultdir)\n"
   ]
  },
  {
   "cell_type": "code",
   "execution_count": null,
   "id": "f1383804-7ad9-4f95-a82b-de54f9f85709",
   "metadata": {
    "tags": []
   },
   "outputs": [],
   "source": [
    "L, m, r = (1, 1, 1)\n",
    "u_ex(x) = (x[1]^2 + x[2]^2  - 1)^2*sin(2π*x[1])*cos(2π*x[2])\n",
    "# u_ex(x) = 100*sin(m*( 2π/L )*x[1])*cos(r*( 2π/L )*x[2])\n",
    "# u_ex(x) = 100*cos(m*( 2π/L )*x[1])*cos(r*( 2π/L )*x[2])\n",
    "exact_sol = Solver.man_sol(u_ex)\n",
    "solver_config = Solver.Config(exact_sol)\n",
    "\n",
    "resultdir= \"figures/biharmonic_CIP_nitsche/\"*string(Dates.now())\n",
    "println(resultdir)\n",
    "mkpath(resultdir)\n",
    "\n",
    "orders = [2,3,4]\n",
    "ns = [2^2, 2^3, 2^4, 2^5, 2^6, 2^7]\n",
    "\n",
    "@time convergence_analysis( orders=orders, ns=ns, solver_config=solver_config, dirname=resultdir)"
   ]
  },
  {
   "cell_type": "code",
   "execution_count": null,
   "id": "932d6553-3f30-48e4-9fb7-2a7862dc9ec7",
   "metadata": {},
   "outputs": [],
   "source": []
  }
 ],
 "metadata": {
  "kernelspec": {
   "display_name": "Julia 1.8.5",
   "language": "julia",
   "name": "julia-1.8"
  },
  "language_info": {
   "file_extension": ".jl",
   "mimetype": "application/julia",
   "name": "julia",
   "version": "1.8.5"
  }
 },
 "nbformat": 4,
 "nbformat_minor": 5
}
