{
 "cells": [
  {
   "cell_type": "markdown",
   "id": "0f109f20-e3fc-48b3-9f3f-625c7996b651",
   "metadata": {},
   "source": [
    "# Minimalistic CutFEM Example"
   ]
  },
  {
   "cell_type": "code",
   "execution_count": 1,
   "id": "228bc430-c2c0-4a66-91c6-1c2dee5c3cd8",
   "metadata": {
    "tags": []
   },
   "outputs": [
    {
     "data": {
      "text/plain": [
       "minimalistic_CutFEM (generic function with 1 method)"
      ]
     },
     "execution_count": 1,
     "metadata": {},
     "output_type": "execute_result"
    }
   ],
   "source": [
    "using Gridap\n",
    "using LinearAlgebra\n",
    "using GridapEmbedded\n",
    "using GridapGmsh\n",
    "using Parameters\n",
    "\n",
    "# α(x) = x[1]^2 + x[2]^2\n",
    "α(x) = 1\n",
    "function minimalistic_CutFEM(;order, n, u_ex)\n",
    "\n",
    "    ∇u_ex(x) = ∇(u_ex)(x)\n",
    "    ∇Δu_ex(x) = ∇(Δ(u_ex))(x)\n",
    "    f(x) = Δ(Δ(u_ex))(x)+ α(x)⋅u_ex(x)\n",
    "        \n",
    "    println(\"n=\",n)\n",
    "    # Background model\n",
    "    L = 1.11\n",
    "    domain = (-L, L, -L, L)\n",
    "    pmin = Point(-L, -L)\n",
    "    pmax = Point(L, L)\n",
    "    partition = (n,n)\n",
    "    bgmodel = CartesianDiscreteModel(pmin, pmax, partition)\n",
    "\n",
    "    # Implicit geometry\n",
    "    R  = 1.0\n",
    "    geo = disk(R)\n",
    "\n",
    "    # Cut the background model\n",
    "    cutgeo = cut(bgmodel, geo)\n",
    "    cutgeo_facets = cut_facets(bgmodel,geo)\n",
    "\n",
    "    # Set up interpolation mesh and function spaces\n",
    "    Ω_act = Triangulation(cutgeo, ACTIVE)\n",
    "\n",
    "    # Set up interpolation mesh and function spaces\n",
    "    Ω_act = Triangulation(cutgeo, ACTIVE)\n",
    "\n",
    "    # Construct function spaces\n",
    "    V = TestFESpace(Ω_act, ReferenceFE(lagrangian, Float64, order), conformity=:H1)\n",
    "    U = TrialFESpace(V)\n",
    "\n",
    "    # Set up integration meshes, measures and normals\n",
    "    Ω = Triangulation(cutgeo, PHYSICAL)\n",
    "    Γ = EmbeddedBoundary(cutgeo)\n",
    "    Λ = SkeletonTriangulation(cutgeo_facets)\n",
    "    Fg = GhostSkeleton(cutgeo)\n",
    "\n",
    "    # Set up integration measures\n",
    "    degree = 2*order\n",
    "    dΩ   = Measure(Ω, degree)\n",
    "    dΓ   = Measure(Γ, degree)\n",
    "    dΛ   = Measure(Λ, degree) # F_int\n",
    "    dFg  = Measure(Fg, degree)\n",
    "\n",
    "    # Set up normal vectors\n",
    "    n_Γ = get_normal_vector(Γ)\n",
    "    n_Λ = get_normal_vector(Λ)\n",
    "    n_Fg = get_normal_vector(Fg)\n",
    "\n",
    "    # Define weak form\n",
    "    γ = 25*order*( order+1)\n",
    "\n",
    "    # Ghost penalty parameter\n",
    "    γg0 = γ\n",
    "    γg1 = 0.1\n",
    "    γg2 = 0.1\n",
    "\n",
    "    # Mesh size\n",
    "    h = L/n\n",
    "\n",
    "\n",
    "    function mean_n(u,n)\n",
    "        return 0.5*( u.plus⋅n.plus + u.minus⋅n.minus )\n",
    "    end\n",
    "\n",
    "    function mean_nn(u,n)\n",
    "        return 0.5*( n.plus⋅ ∇∇(u).plus⋅ n.plus + n.minus ⋅ ∇∇(u).minus ⋅ n.minus )\n",
    "    end\n",
    "\n",
    "    function jump_nn(u,n)\n",
    "        return ( n.plus⋅ ∇∇(u).plus⋅ n.plus - n.minus ⋅ ∇∇(u).minus ⋅ n.minus )\n",
    "    end\n",
    "    # Inner facets\n",
    "    a(u,v) =( ∫( ∇∇(v)⊙∇∇(u) + α⋅(v⊙u) )dΩ\n",
    "                 + ∫(-mean_nn(v,n_Λ)⊙jump(∇(u)⋅n_Λ) - mean_nn(u,n_Λ)⊙jump(∇(v)⋅n_Λ))dΛ\n",
    "                 + ∫(-( n_Γ ⋅ ∇∇(v)⋅ n_Γ )⊙∇(u)⋅n_Γ - ( n_Γ ⋅ ∇∇(u)⋅ n_Γ )⊙∇(v)⋅n_Γ)dΓ\n",
    "                 + ∫((γ/h)⋅jump(∇(u)⋅n_Λ)⊙jump(∇(v)⋅n_Λ))dΛ + ∫((γ/h)⋅ ∇(u)⊙n_Γ⋅∇(v)⊙n_Γ )dΓ\n",
    "                )\n",
    "\n",
    "    # Define linear form\n",
    "    # Notation: g_1 = ∇u_ex⋅n_Γ, g_2 = ∇Δu_ex⋅n_Γ\n",
    "    g_1 = ∇u_ex⋅n_Γ\n",
    "    g_2 = ∇Δu_ex⋅n_Γ\n",
    "    l(v) = (∫( f*v ) * dΩ\n",
    "            +  ∫(-(g_2⋅v))dΓ\n",
    "            + ∫(g_1⊙(-(n_Γ⋅∇∇(v)⋅n_Γ) + (γ/h)*∇(v)⋅n_Γ)) * dΓ\n",
    "            )\n",
    "\n",
    "    # Define of ghost penalties\n",
    "    if order == 2\n",
    "        g(u,v) = h^(-2)*(∫( (γg0/h)*jump(u)*jump(v)) * dFg +\n",
    "                        ∫( (γg1*h)*jump(n_Fg⋅∇(u))*jump(n_Fg⋅∇(v)) ) * dFg +\n",
    "                         ∫( (γg2*h^3)*jump_nn(u,n_Fg)*jump_nn(v,n_Fg) ) * dFg)\n",
    "    else\n",
    "        println(\"Not supported order:\", order)\n",
    "    end\n",
    "\n",
    "    A(u,v) = a(u,v) + g(u,v)\n",
    "\n",
    "\n",
    "    # Assemble of system\n",
    "    op = AffineFEOperator(a, l, U, V)\n",
    "    uh = solve(op)\n",
    "    A =  get_matrix(op)\n",
    "    ndof = size(A)[1]\n",
    "    h = 1/sqrt(ndof)\n",
    "    cond_number = ( 1/sqrt(ndof) )*cond(A,Inf)\n",
    "\n",
    "    e = u_ex - uh\n",
    "    el2 = sqrt(sum( ∫(e*e)dΩ ))\n",
    "\n",
    "    # TODO: Add α into ∫(e⊙e)*dΩ\n",
    "    eh_energy = sqrt(sum( ∫(e⊙e)*dΩ + ∫( ∇∇(e)⊙∇∇(e) )*dΩ\n",
    "                      + ( γ/h ) * ∫(jump(∇(e)⋅n_Λ) ⊙ jump(∇(e)⋅n_Λ))dΛ\n",
    "                      + ( h/γ ) * ∫(mean_nn(e,n_Λ) ⊙ mean_nn(e,n_Λ))dΛ\n",
    "                      + ( γ/h ) * ∫((∇(e)⋅n_Γ) ⊙ (∇(e)⋅n_Γ))dΓ\n",
    "                      + ( h/γ ) * ∫(( n_Γ ⋅ ∇∇(e)⋅ n_Γ ) ⊙ ( n_Γ ⋅ ∇∇(e)⋅ n_Γ ))dΓ\n",
    "                     ))\n",
    "\n",
    "    eh1 = sqrt(sum( ∫( e⊙e + ∇(e)⊙∇(e) )*dΩ ))\n",
    "\n",
    "    println(\"n=\",n, \" L2=\", el2, \" energy=\", eh_energy  )\n",
    "   \n",
    "end"
   ]
  },
  {
   "cell_type": "code",
   "execution_count": 2,
   "id": "638e2a05-a526-4223-adfe-a491de9af6d9",
   "metadata": {
    "tags": []
   },
   "outputs": [
    {
     "name": "stdout",
     "output_type": "stream",
     "text": [
      "Homogenous Example\n",
      "n=4\n",
      "n=4 L2=0.3996521510998364 energy=37.119960059735604\n",
      "n=64\n",
      "n=64 L2=0.002071869175054371 energy=2.2728722369190555\n",
      "Nonhomogenous Example\n",
      "n=4\n",
      "n=4 L2=1.9290859690933797 energy=70.72967556386526\n",
      "n=64\n",
      "n=64 L2=0.5305362307597881 energy=11.180141133612048\n"
     ]
    }
   ],
   "source": [
    "\n",
    "println(\"Homogenous Example\")\n",
    "u_ex(x) = (x[1]^2 + x[2]^2  - 1)^2*sin(2π*x[1])*cos(2π*x[2])\n",
    "n = 2^2\n",
    "minimalistic_CutFEM(order=2, u_ex=u_ex, n=n)\n",
    "\n",
    "n = 2^6\n",
    "minimalistic_CutFEM(order=2, u_ex=u_ex, n=n)\n",
    "\n",
    "\n",
    "println(\"Nonhomogenous Example\")\n",
    "u_ex(x) = sin(2π*x[1])*cos(2π*x[2])\n",
    "n = 2^2\n",
    "minimalistic_CutFEM(order=2, u_ex=u_ex, n=n)\n",
    "n = 2^6\n",
    "minimalistic_CutFEM(order=2, u_ex=u_ex, n=n)"
   ]
  },
  {
   "cell_type": "markdown",
   "id": "54b56826-c7ce-47b5-8aa4-b8b2b1967f31",
   "metadata": {},
   "source": [
    "# Test of rhs for CutFEM"
   ]
  },
  {
   "cell_type": "code",
   "execution_count": 3,
   "id": "dfc79ae4-dd43-4044-81d9-c8060cc663f2",
   "metadata": {
    "tags": []
   },
   "outputs": [
    {
     "data": {
      "text/plain": [
       "test_rhs_CutFEM (generic function with 1 method)"
      ]
     },
     "execution_count": 3,
     "metadata": {},
     "output_type": "execute_result"
    }
   ],
   "source": [
    "# α(x) = x[1]^2 + x[2]^2\n",
    "α(x) = 1\n",
    "function test_rhs_CutFEM(;order, n, u_ex, ∇u_ex, ∇Δu_ex, f)\n",
    "\n",
    "    # Background model\n",
    "    L = 1.11\n",
    "    domain = (-L, L, -L, L)\n",
    "    pmin = Point(-L, -L)\n",
    "    pmax = Point(L, L)\n",
    "    partition = (n,n)\n",
    "    bgmodel = CartesianDiscreteModel(pmin, pmax, partition)\n",
    "\n",
    "    # Implicit geometry\n",
    "    R  = 1.0\n",
    "    geo = disk(R)\n",
    "\n",
    "    # Cut the background model\n",
    "    cutgeo = cut(bgmodel, geo)\n",
    "    cutgeo_facets = cut_facets(bgmodel,geo)\n",
    "\n",
    "    # Set up interpolation mesh and function spaces\n",
    "    Ω_act = Triangulation(cutgeo, ACTIVE)\n",
    "\n",
    "    # Set up interpolation mesh and function spaces\n",
    "    Ω_act = Triangulation(cutgeo, ACTIVE)\n",
    "\n",
    "    # Construct function spaces\n",
    "    V = TestFESpace(Ω_act, ReferenceFE(lagrangian, Float64, order), conformity=:H1)\n",
    "    U = TrialFESpace(V)\n",
    "\n",
    "    # Set up integration meshes, measures and normals\n",
    "    Ω = Triangulation(cutgeo, PHYSICAL)\n",
    "    Γ = EmbeddedBoundary(cutgeo)\n",
    "    Λ = SkeletonTriangulation(cutgeo_facets)\n",
    "    Fg = GhostSkeleton(cutgeo)\n",
    "\n",
    "    # Set up integration measures\n",
    "    degree = 2*order\n",
    "    dΩ   = Measure(Ω, degree)\n",
    "    dΓ   = Measure(Γ, degree)\n",
    "    dΛ   = Measure(Λ, degree) # F_int\n",
    "    dFg  = Measure(Fg, degree)\n",
    "\n",
    "    # Set up normal vectors\n",
    "    n_Γ = get_normal_vector(Γ)\n",
    "    n_Λ = get_normal_vector(Λ)\n",
    "    n_Fg = get_normal_vector(Fg)\n",
    "\n",
    "    # Define weak form\n",
    "    γ = 25*order*( order+1)\n",
    "\n",
    "    # Ghost penalty parameter\n",
    "    γg0 = γ\n",
    "    γg1 = 0.1\n",
    "    γg2 = 0.1\n",
    "\n",
    "    # Mesh size\n",
    "    h = L/n\n",
    "\n",
    "\n",
    "    function mean_n(u,n)\n",
    "        return 0.5*( u.plus⋅n.plus + u.minus⋅n.minus )\n",
    "    end\n",
    "\n",
    "    function mean_nn(u,n)\n",
    "        return 0.5*( n.plus⋅ ∇∇(u).plus⋅ n.plus + n.minus ⋅ ∇∇(u).minus ⋅ n.minus )\n",
    "    end\n",
    "\n",
    "    function jump_nn(u,n)\n",
    "        return ( n.plus⋅ ∇∇(u).plus⋅ n.plus - n.minus ⋅ ∇∇(u).minus ⋅ n.minus )\n",
    "    end\n",
    "    # Inner facets\n",
    "    a(u,v) =( ∫( ∇∇(v)⊙∇∇(u) + α⋅(v⊙u) )dΩ\n",
    "                 + ∫(-mean_nn(v,n_Λ)⊙jump(∇(u)⋅n_Λ) - mean_nn(u,n_Λ)⊙jump(∇(v)⋅n_Λ))dΛ\n",
    "                 + ∫(-( n_Γ ⋅ ∇∇(v)⋅ n_Γ )⊙∇(u)⋅n_Γ - ( n_Γ ⋅ ∇∇(u)⋅ n_Γ )⊙∇(v)⋅n_Γ)dΓ\n",
    "                 + ∫((γ/h)⋅jump(∇(u)⋅n_Λ)⊙jump(∇(v)⋅n_Λ))dΛ + ∫((γ/h)⋅ ∇(u)⊙n_Γ⋅∇(v)⊙n_Γ )dΓ\n",
    "                )\n",
    "\n",
    "    # Define linear form\n",
    "    # Notation: g_1 = ∇u_ex⋅n_Γ, g_2 = ∇Δu_ex⋅n_Γ\n",
    "    g_1 = ∇u_ex⋅n_Γ\n",
    "    g_2 = ∇Δu_ex⋅n_Γ\n",
    "    \"\"\"\n",
    "    l(v) = (\n",
    "            ∫( f*v ) * dΩ\n",
    "            +  ∫(-(g_2⋅v))dΓ\n",
    "            + ∫(g_1⊙(-(n_Γ⋅∇∇(v)⋅n_Γ) + (γ/h)*∇(v)⋅n_Γ)) * dΓ\n",
    "            )\n",
    "    \"\"\"\n",
    "    #l(v) = (∫( f*v ) * dΩ)\n",
    "   # l(v) =  (∫(0*v)* dΩ +  ∫(g_1⊙(-(n_Γ⋅∇∇(v)⋅n_Γ) + (γ/h)*∇(v)⋅n_Γ)) * dΓ)\n",
    "    l(v) =  (∫(0*v)* dΩ )+  ∫(g_1⊙(-(n_Γ⋅∇∇(v)⋅n_Γ) + (γ/h)*∇(v)⋅n_Γ)) * dΓ\n",
    "\n",
    "\n",
    "    # Define of ghost penalties\n",
    "    if order == 2\n",
    "        g(u,v) = h^(-2)*(∫( (γg0/h)*jump(u)*jump(v)) * dFg +\n",
    "                        ∫( (γg1*h)*jump(n_Fg⋅∇(u))*jump(n_Fg⋅∇(v)) ) * dFg +\n",
    "                         ∫( (γg2*h^3)*jump_nn(u,n_Fg)*jump_nn(v,n_Fg) ) * dFg)\n",
    "    else\n",
    "        println(\"Not supported order:\", order)\n",
    "    end\n",
    "\n",
    "    A(u,v) = a(u,v) + g(u,v)\n",
    "\n",
    "\n",
    "    # Assemble of system\n",
    "    op = AffineFEOperator(a, l, U, V)\n",
    "    uh = solve(op)\n",
    "    A =  get_matrix(op)\n",
    "    ndof = size(A)[1]\n",
    "    cond_number = ( 1/sqrt(ndof) )*cond(A,Inf)\n",
    "    \n",
    "    b = get_vector(op)\n",
    "    println(\"b = \", b, \"n= \",n)\n",
    "    \n",
    "    \"\"\"\n",
    "    e = u_ex - uh\n",
    "    el2 = sqrt(sum( ∫(e*e)dΩ ))\n",
    "\n",
    "    # TODO: Add α into ∫(e⊙e)*dΩ\n",
    "    eh_energy = sqrt(sum( ∫(e⊙e)*dΩ + ∫( ∇∇(e)⊙∇∇(e) )*dΩ\n",
    "                      + ( γ/h ) * ∫(jump(∇(e)⋅n_Λ) ⊙ jump(∇(e)⋅n_Λ))dΛ\n",
    "                      + ( h/γ ) * ∫(mean_nn(e,n_Λ) ⊙ mean_nn(e,n_Λ))dΛ\n",
    "                      + ( γ/h ) * ∫((∇(e)⋅n_Γ) ⊙ (∇(e)⋅n_Γ))dΓ\n",
    "                      + ( h/γ ) * ∫(( n_Γ ⋅ ∇∇(e)⋅ n_Γ ) ⊙ ( n_Γ ⋅ ∇∇(e)⋅ n_Γ ))dΓ\n",
    "                     ))\n",
    "\n",
    "    eh1 = sqrt(sum( ∫( e⊙e + ∇(e)⊙∇(e) )*dΩ ))\n",
    "\n",
    "    println(\"n=\",n, \" L2=\", el2, \" energy=\", eh_energy  )\n",
    "    \"\"\"\n",
    "    0\n",
    "end"
   ]
  },
  {
   "cell_type": "code",
   "execution_count": 4,
   "id": "9de8b1e2-aeff-4671-abed-db15d4f729cd",
   "metadata": {
    "tags": []
   },
   "outputs": [
    {
     "name": "stdout",
     "output_type": "stream",
     "text": [
      "b = [-2.7077863048041353, -29.984145641977467, -90.60123479081156, -29.97169454179222, -2.7078745250790925, -25.078370754981734, 161.9283140970898, -14.700646379084976, 161.94105375928046, -25.07818001060879, -36.075947447187616, -9.978113547388787, 0.0, -9.978113547388853, -36.0759474471877, -25.07818001060878, 161.94105375928044, -14.700646379085061, 161.92831409708973, -25.078370754981783, -2.7078745250790943, -29.971694541792168, -90.60123479081176, -29.984145641977506, -2.707786304804145, 23.55005327136302, -34.78806338684918, 25.170018273021213, -64.19419891589055, -235.89455771216055, 120.69337816606371, 260.5127496795734, -235.91950942429665, 120.66738377032395, -64.21593735305001, 23.550566882768358, -34.78942940973752, 25.170839394655758, 116.38480266841574, -121.92515149701688, 67.33182593566777, 0.0, 0.0, 0.0, 67.32907595510368, 116.38480266841577, -121.92512160055321, -34.78942940973748, -121.92512160055323, 67.32907595510366, 120.66738377032391, 0.0, 120.69337816606367, 67.33182593566772, -34.78806338684902, -121.92515149701694, 23.5505668827684, 25.170839394655733, -64.21593735305011, -235.91950942429668, 260.512749679574, -235.8945577121608, -64.19419891589041, 23.550053271363016, 25.170018273021235, -171.10231139042565, 109.4184980906151, 109.46697278890282, -171.10454984343926, 64.81229348924731, 0.0, 0.0, 64.81499825504352, 64.81499825504343, 0.0, 0.0, 64.81229348924734, -171.1045498434392, 109.46697278890291, 109.41849809061517, -171.10231139042568]n= 4\n"
     ]
    },
    {
     "data": {
      "text/plain": [
       "0"
      ]
     },
     "execution_count": 4,
     "metadata": {},
     "output_type": "execute_result"
    }
   ],
   "source": [
    "r(x) = exp(-x[1]^2)\n",
    "r_x(x) = -2*x[1]*exp(-x[1]^2)\n",
    "r_y(x) = 0\n",
    "\n",
    "u_ex(x) = (x[1]^2 + x[2]^2  - 1)^2*r(x)\n",
    "∇Δu_ex(x) = ∇(Δ(u_ex))(x)\n",
    "f(x) = Δ(Δ(u_ex))(x)+ α(x)⋅u_ex(x)\n",
    "\n",
    "∇u_ex(x) = VectorValue(4*x[1]*(x[1]^2 + x[2]^2  - 1)*r(x) + (x[1]^2 + x[2]^2  - 1)^2*r_x(x),\n",
    "                    4*x[2]*(x[1]^2 + x[2]^2  - 1)*r(x) + (x[1]^2 + x[2]^2  - 1)^2*r_y(x))\n",
    "\n",
    "n = 2^2\n",
    "test_rhs_CutFEM(order=2, n=n, u_ex=u_ex, ∇u_ex=∇u_ex, ∇Δu_ex=∇Δu_ex, f=f )"
   ]
  },
  {
   "cell_type": "code",
   "execution_count": 5,
   "id": "117c8f38-5db4-4801-b3e9-2f6c74e9da95",
   "metadata": {},
   "outputs": [
    {
     "name": "stdout",
     "output_type": "stream",
     "text": [
      "b = [-2.7077863048041353, -29.984145641977467, -90.60123479081156, -29.97169454179222, -2.7078745250790925, -25.078370754981734, 161.9283140970898, -14.700646379084976, 161.94105375928046, -25.07818001060879, -36.075947447187616, -9.978113547388787, 0.0, -9.978113547388853, -36.0759474471877, -25.07818001060878, 161.94105375928044, -14.700646379085061, 161.92831409708973, -25.078370754981783, -2.7078745250790943, -29.971694541792168, -90.60123479081176, -29.984145641977506, -2.707786304804145, 23.55005327136302, -34.78806338684918, 25.170018273021213, -64.19419891589055, -235.89455771216055, 120.69337816606371, 260.5127496795734, -235.91950942429665, 120.66738377032395, -64.21593735305001, 23.550566882768358, -34.78942940973752, 25.170839394655758, 116.38480266841574, -121.92515149701688, 67.33182593566777, 0.0, 0.0, 0.0, 67.32907595510368, 116.38480266841577, -121.92512160055321, -34.78942940973748, -121.92512160055323, 67.32907595510366, 120.66738377032391, 0.0, 120.69337816606367, 67.33182593566772, -34.78806338684902, -121.92515149701694, 23.5505668827684, 25.170839394655733, -64.21593735305011, -235.91950942429668, 260.512749679574, -235.8945577121608, -64.19419891589041, 23.550053271363016, 25.170018273021235, -171.10231139042565, 109.4184980906151, 109.46697278890282, -171.10454984343926, 64.81229348924731, 0.0, 0.0, 64.81499825504352, 64.81499825504343, 0.0, 0.0, 64.81229348924734, -171.1045498434392, 109.46697278890291, 109.41849809061517, -171.10231139042568]n= 4\n"
     ]
    },
    {
     "data": {
      "text/plain": [
       "0"
      ]
     },
     "execution_count": 5,
     "metadata": {},
     "output_type": "execute_result"
    }
   ],
   "source": [
    "∇u_ex(x) = ∇(u_ex)(x)\n",
    "n = 2^2\n",
    "test_rhs_CutFEM(order=2, n=n, u_ex=u_ex, ∇u_ex=∇u_ex, ∇Δu_ex=∇Δu_ex, f=f )\n"
   ]
  },
  {
   "cell_type": "markdown",
   "id": "dae2b791-9b27-4015-adff-89049fbea877",
   "metadata": {},
   "source": [
    "# Minimal CIP Nitsche formulation"
   ]
  },
  {
   "cell_type": "code",
   "execution_count": 6,
   "id": "d836f80b-ff0f-4a18-9258-e9f4b1976f7e",
   "metadata": {
    "tags": []
   },
   "outputs": [
    {
     "data": {
      "text/plain": [
       "minimalistic_CIP (generic function with 1 method)"
      ]
     },
     "execution_count": 6,
     "metadata": {},
     "output_type": "execute_result"
    }
   ],
   "source": [
    "function minimalistic_CIP(;order, n,  u_ex)\n",
    "    ∇u_ex(x) = ∇(u_ex)(x)\n",
    "    ∇Δu_ex(x) = ∇(Δ(u_ex))(x)\n",
    "    f(x) = Δ(Δ(u_ex))(x)+ α(x)⋅u_ex(x)\n",
    "    \n",
    "    refinement = Integer(log2(n)) - 1\n",
    "    if ( refinement < 1 || refinement > 6 )\n",
    "        println(\"Refinement out of range.\")\n",
    "    end\n",
    "    mesh_file = \"circle/circle_\"*string(refinement)*\".msh\"\n",
    "    model = GmshDiscreteModel(mesh_file)\n",
    "    h = 2/n\n",
    "        \n",
    "    γ = 1.5*order*( order+1)\n",
    "\n",
    "    # Spaces\n",
    "    V = TestFESpace(model, ReferenceFE(lagrangian,Float64, order), conformity=:H1)\n",
    "    U = TrialFESpace(V)\n",
    "    Ω = Triangulation(model)\n",
    "    Λ = SkeletonTriangulation(model)\n",
    "    Γ = BoundaryTriangulation(model)\n",
    "\n",
    "    degree = 2*order\n",
    "    dΩ = Measure(Ω,degree)\n",
    "    dΓ = Measure(Γ,degree)\n",
    "    dΛ = Measure(Λ,degree)\n",
    "\n",
    "    n_Λ = get_normal_vector(Λ)\n",
    "    n_Γ = get_normal_vector(Γ)\n",
    "\n",
    "    function mean_nn(u,n)\n",
    "        return 0.5*( n.plus⋅ ∇∇(u).plus⋅ n.plus + n.minus ⋅ ∇∇(u).minus ⋅ n.minus )\n",
    "    end\n",
    "\n",
    "    # Inner facets\n",
    "    a(u,v) =( ∫( ∇∇(v)⊙∇∇(u) + α⋅(v⊙u) )dΩ\n",
    "            + ∫(-mean_nn(v,n_Λ)⊙jump(∇(u)⋅n_Λ) - mean_nn(u,n_Λ)⊙jump(∇(v)⋅n_Λ))dΛ\n",
    "            + ∫(-( n_Γ ⋅ ∇∇(v)⋅ n_Γ )⊙∇(u)⋅n_Γ - ( n_Γ ⋅ ∇∇(u)⋅ n_Γ )⊙∇(v)⋅n_Γ)dΓ\n",
    "            + ∫((γ/h)⋅jump(∇(u)⋅n_Λ)⊙jump(∇(v)⋅n_Λ))dΛ + ∫((γ/h)⋅ ∇(u)⊙n_Γ⋅∇(v)⊙n_Γ )dΓ\n",
    "                )\n",
    "\n",
    "    g_1 = ∇u_ex⋅n_Γ\n",
    "    g_2 = ∇Δu_ex⋅n_Γ\n",
    "\n",
    "    l(v) = (∫( f*v ) * dΩ\n",
    "            +  ∫(-(g_2⋅v))dΓ\n",
    "            + ∫(g_1⊙(-(n_Γ⋅∇∇(v)⋅n_Γ) + (γ/h)*∇(v)⋅n_Γ)) * dΓ\n",
    "            )\n",
    "\n",
    "    op = AffineFEOperator(a, l, U, V)\n",
    "    uh = solve(op)\n",
    "    A =  get_matrix(op)\n",
    "    ndof = size(A)[1]\n",
    "    h = 1/sqrt(ndof)\n",
    "\n",
    "    e = u_ex - uh\n",
    "    el2 = sqrt(sum( ∫(e*e)dΩ ))\n",
    "\n",
    "    # TODO: Add α into ∫(e⊙e)*dΩ\n",
    "    eh_energy = sqrt(sum( ∫(e⊙e)*dΩ + ∫( ∇∇(e)⊙∇∇(e) )*dΩ\n",
    "                      + ( γ/h ) * ∫(jump(∇(e)⋅n_Λ) ⊙ jump(∇(e)⋅n_Λ))dΛ\n",
    "                      + ( h/γ ) * ∫(mean_nn(e,n_Λ) ⊙ mean_nn(e,n_Λ))dΛ\n",
    "                      + ( γ/h ) * ∫((∇(e)⋅n_Γ) ⊙ (∇(e)⋅n_Γ))dΓ\n",
    "                      + ( h/γ ) * ∫(( n_Γ ⋅ ∇∇(e)⋅ n_Γ ) ⊙ ( n_Γ ⋅ ∇∇(e)⋅ n_Γ ))dΓ\n",
    "                     ))\n",
    "\n",
    "    eh1 = sqrt(sum( ∫( e⊙e + ∇(e)⊙∇(e) )*dΩ ))\n",
    "\n",
    "    u_inter = interpolate(u_ex, V)\n",
    "    println(\"n=\",n, \" L2=\", el2, \" energy=\", eh_energy  )\n",
    "end "
   ]
  },
  {
   "cell_type": "code",
   "execution_count": 7,
   "id": "5036f703-1e0c-4f17-bf75-3541b62ad95e",
   "metadata": {
    "tags": []
   },
   "outputs": [
    {
     "name": "stdout",
     "output_type": "stream",
     "text": [
      "Homogenous Example\n",
      "Info    : Reading 'circle/circle_1.msh'...\n",
      "Info    : 3 entities\n",
      "Info    : 60 nodes\n",
      "Info    : 119 elements\n",
      "Info    : Done reading 'circle/circle_1.msh'\n",
      "n=4 L2=0.14939912669992605 energy=50.57828511184713\n",
      "Info    : Reading 'circle/circle_5.msh'...\n",
      "Info    : 3 entities\n",
      "Info    : 12345 nodes\n",
      "Info    : 24689 elements\n",
      "Info    : Done reading 'circle/circle_5.msh'\n",
      "n=64 L2=0.0008580481696148493 energy=3.1128810620454694\n",
      "Nonhomogenous Example\n",
      "Info    : Reading 'circle/circle_1.msh'...\n",
      "Info    : 3 entities\n",
      "Info    : 60 nodes\n",
      "Info    : 119 elements\n",
      "Info    : Done reading 'circle/circle_1.msh'\n",
      "n=4 L2=0.4706145997694027 energy=86.46392286662402\n",
      "Info    : Reading 'circle/circle_5.msh'...\n",
      "Info    : 3 entities\n",
      "Info    : 12345 nodes\n",
      "Info    : 24689 elements\n",
      "Info    : Done reading 'circle/circle_5.msh'\n",
      "n=64 L2=0.5937849020159831 energy=12.301225317394795\n"
     ]
    }
   ],
   "source": [
    "\n",
    "println(\"Homogenous Example\")\n",
    "u_ex(x) = (x[1]^2 + x[2]^2  - 1)^2*sin(2π*x[1])*cos(2π*x[2])\n",
    "n = 2^2\n",
    "minimalistic_CIP(order=2, u_ex=u_ex, n=n)\n",
    "\n",
    "n = 2^6\n",
    "minimalistic_CIP(order=2, u_ex=u_ex, n=n)\n",
    "\n",
    "\n",
    "println(\"Nonhomogenous Example\")\n",
    "u_ex(x) = sin(2π*x[1])*cos(2π*x[2])\n",
    "n = 2^2\n",
    "minimalistic_CIP(order=2, u_ex=u_ex, n=n)\n",
    "n = 2^6\n",
    "minimalistic_CIP(order=2, u_ex=u_ex, n=n)"
   ]
  },
  {
   "cell_type": "markdown",
   "id": "7ea6a20d-4bec-4ee3-8e58-b990aee359dc",
   "metadata": {},
   "source": [
    " # Test of rhs for CIP Nitsche\n"
   ]
  },
  {
   "cell_type": "code",
   "execution_count": 8,
   "id": "4253a071-ca8a-4ad4-979c-808384033891",
   "metadata": {
    "tags": []
   },
   "outputs": [
    {
     "data": {
      "text/plain": [
       "test_rhs_CIP (generic function with 1 method)"
      ]
     },
     "execution_count": 8,
     "metadata": {},
     "output_type": "execute_result"
    }
   ],
   "source": [
    "function test_rhs_CIP(;order, n, u_ex, ∇u_ex, ∇Δu_ex, f)\n",
    "   \n",
    "    \n",
    "    refinement = Integer(log2(n)) - 1\n",
    "    if ( refinement < 1 || refinement > 6 )\n",
    "        println(\"Refinement out of range.\")\n",
    "    end\n",
    "    mesh_file = \"circle/circle_\"*string(refinement)*\".msh\"\n",
    "    model = GmshDiscreteModel(mesh_file)\n",
    "    h = 2/n\n",
    "        \n",
    "    γ = 1.5*order*( order+1)\n",
    "\n",
    "    # Spaces\n",
    "    V = TestFESpace(model, ReferenceFE(lagrangian,Float64, order), conformity=:H1)\n",
    "    U = TrialFESpace(V)\n",
    "    Ω = Triangulation(model)\n",
    "    Λ = SkeletonTriangulation(model)\n",
    "    Γ = BoundaryTriangulation(model)\n",
    "\n",
    "    degree = 2*order\n",
    "    dΩ = Measure(Ω,degree)\n",
    "    dΓ = Measure(Γ,degree)\n",
    "    dΛ = Measure(Λ,degree)\n",
    "\n",
    "    n_Λ = get_normal_vector(Λ)\n",
    "    n_Γ = get_normal_vector(Γ)\n",
    "\n",
    "    function mean_nn(u,n)\n",
    "        return 0.5*( n.plus⋅ ∇∇(u).plus⋅ n.plus + n.minus ⋅ ∇∇(u).minus ⋅ n.minus )\n",
    "    end\n",
    "\n",
    "    # Inner facets\n",
    "    a(u,v) =( ∫( ∇∇(v)⊙∇∇(u) + α⋅(v⊙u) )dΩ\n",
    "            + ∫(-mean_nn(v,n_Λ)⊙jump(∇(u)⋅n_Λ) - mean_nn(u,n_Λ)⊙jump(∇(v)⋅n_Λ))dΛ\n",
    "            + ∫(-( n_Γ ⋅ ∇∇(v)⋅ n_Γ )⊙∇(u)⋅n_Γ - ( n_Γ ⋅ ∇∇(u)⋅ n_Γ )⊙∇(v)⋅n_Γ)dΓ\n",
    "            + ∫((γ/h)⋅jump(∇(u)⋅n_Λ)⊙jump(∇(v)⋅n_Λ))dΛ + ∫((γ/h)⋅ ∇(u)⊙n_Γ⋅∇(v)⊙n_Γ )dΓ\n",
    "                )\n",
    "\n",
    "    g_1 = ∇u_ex⋅n_Γ\n",
    "    g_2 = ∇Δu_ex⋅n_Γ\n",
    "    \n",
    "    \"\"\"\n",
    "    l(v) = (\n",
    "            ∫( f*v ) * dΩ\n",
    "            +  ∫(-(g_2⋅v))dΓ\n",
    "            + ∫(g_1⊙(-(n_Γ⋅∇∇(v)⋅n_Γ) + (γ/h)*∇(v)⋅n_Γ)) * dΓ\n",
    "            )\n",
    "    \"\"\"\n",
    "    # l(v) = (∫( f*v ) * dΩ)\n",
    "    # l(v) =  (∫(0*v)* dΩ +  ∫(g_1⊙(-(n_Γ⋅∇∇(v)⋅n_Γ) + (γ/h)*∇(v)⋅n_Γ)) * dΓ)\n",
    "    l(v) =  (∫(0*v)* dΩ )+  ∫(g_1⊙(-(n_Γ⋅∇∇(v)⋅n_Γ) + (γ/h)*∇(v)⋅n_Γ)) * dΓ\n",
    "\n",
    "    op = AffineFEOperator(a, l, U, V)\n",
    "    uh = solve(op)\n",
    "    A =  get_matrix(op)\n",
    "    \n",
    "    b = get_vector(op)\n",
    "    println(\"b = \", b, \"n= \",n)\n",
    "    \"\"\"\n",
    "\n",
    "    e = u_ex - uh\n",
    "    el2 = sqrt(sum( ∫(e*e)dΩ ))\n",
    "\n",
    "    # TODO: Add α into ∫(e⊙e)*dΩ\n",
    "    eh_energy = sqrt(sum( ∫(e⊙e)*dΩ + ∫( ∇∇(e)⊙∇∇(e) )*dΩ\n",
    "                      + ( γ/h ) * ∫(jump(∇(e)⋅n_Λ) ⊙ jump(∇(e)⋅n_Λ))dΛ\n",
    "                      + ( h/γ ) * ∫(mean_nn(e,n_Λ) ⊙ mean_nn(e,n_Λ))dΛ\n",
    "                      + ( γ/h ) * ∫((∇(e)⋅n_Γ) ⊙ (∇(e)⋅n_Γ))dΓ\n",
    "                      + ( h/γ ) * ∫(( n_Γ ⋅ ∇∇(e)⋅ n_Γ ) ⊙ ( n_Γ ⋅ ∇∇(e)⋅ n_Γ ))dΓ\n",
    "                     ))\n",
    "\n",
    "    eh1 = sqrt(sum( ∫( e⊙e + ∇(e)⊙∇(e) )*dΩ ))\n",
    "      \n",
    "    b = get_vector(op)\n",
    "    println(\"b = \", b, \"n= \",n)\n",
    "    \n",
    "    u_inter = interpolate(u_ex, V)\n",
    "    println(\"n=\",n, \" L2=\", el2, \" energy=\", eh_energy  )\n",
    "    \"\"\"\n",
    "    0\n",
    "end "
   ]
  },
  {
   "cell_type": "code",
   "execution_count": 9,
   "id": "f6c07121-aeb3-4102-b56e-84207c478eed",
   "metadata": {
    "tags": []
   },
   "outputs": [
    {
     "name": "stdout",
     "output_type": "stream",
     "text": [
      "Info    : Reading 'circle/circle_1.msh'...\n",
      "Info    : 3 entities\n",
      "Info    : 60 nodes\n",
      "Info    : 119 elements\n",
      "Info    : Done reading 'circle/circle_1.msh'\n",
      "b = [-0.16924613442328035, -0.19042202553265522, -0.13334927836834246, -0.21864976294737082, -0.3561309834125693, -0.3803518211322136, -0.4072927064259645, -0.26471964071084214, -0.3355355553853989, -0.2519681012904279, -0.11577812435691127, -0.13831557760287158, -0.1761443149825231, -0.21158529503879542, -0.1960467853201123, -0.2790391406589514, -0.35641301853374735, -0.5038317209461302, -0.5030713139083154, -0.37629478138365124, -0.23641762169090075, -0.1637792950468446, -0.14435753173973664, 0.0, 0.0, 0.0, 0.0, 0.0, 0.0, 0.0, -0.06806432563509764, -0.10663681963805512, -0.17494331739845684, -0.07521220271121262, -0.18073296751099777, -0.10729303751795961, 0.0, 0.0, 0.0, 0.0, 0.0, 0.0, -0.08067667610694712, -0.07763358045688803, -0.09227932523902192, -0.0997094479231608, -0.24254276284131887, -0.055250888818258896, -0.0338943584175101, -0.1045096633412993, 0.041676926874095695, -0.0860350636882452, -0.16210149549633235, -0.09169570272702188, 0.0, 0.0, 0.0, 0.0, 0.0, 0.0, -0.5152984792597972, 0.4272627308080473, 0.35670832889246595, -0.8851602870972735, 0.623818252615486, 0.6978432104702884, -0.5692624756466089, 0.36941312772996426, 0.47417913719470084, -1.204446451655681, 0.7941675503005167, 1.0293463607997786, -1.6861136542998902, 0.9313929873304524, 1.680868115335059, 0.3685832136215067, 0.7550799980964897, 0.0, -1.0296699123551536, 1.0269370246685183, 0.5194594157384222, 0.3070288812405555, 0.0, 0.5783226659813665, 0.0, -0.755189343281017, 0.3534799481759595, -1.3040757224182074, 0.8579442974769774, 1.1056305591424114, -1.0966390921493199, 1.0265881027128747, 0.4929039312989014, 0.8266051900231843, 0.0, 0.5511648451823575, 0.0, 0.656074557965132, 0.0, 0.5665627195369622, 0.0, 0.639972134010106, 0.0, 1.1520792947131988, 0.0, 1.5251653594537735, 0.0, 0.5027191493222202, 0.0, 1.1989087167652164, 0.0, 1.1532931814202305, 0.0, 0.0, 0.0, 0.0, 0.0, 0.0, 0.0, 0.0, 0.0, 0.0, 0.0, 0.0, 0.0, 1.373793849017026, 0.0, 0.9864144541520254, 0.0, 0.0, 0.0, 0.0, 0.0, -0.7796377629468656, 0.3850303187098821, 0.7675954467174386, -1.0858993536662964, 1.0694150375280087, 0.6414918361893747, 0.4615900951270924, 0.0, 0.30735938197626606, 0.0, 0.0, 0.0, 0.0, 0.0, 0.0, 0.0, 0.0, 0.0, 0.0, 0.0, 0.0, 0.0, 0.0, -1.3968195594340427, -0.9985114208310343, 0.0, 0.0, 0.0, 0.0, 0.0, 0.0, 0.0, 0.0, 0.0, 0.0, 0.0, -0.6967185568107908, -0.5954089763810282, -0.7166516181480329, -1.601587432535344, -1.2651407057945054, -0.7101438690066777, -1.2448277128604603, -0.568461674414376, 0.0, 0.0, 0.0, 0.0, 0.0, 0.0, 0.0, 0.0, 0.0, 0.0, 0.0, 0.0, 0.0, 0.0, 0.0, 0.0, 0.0, 0.0, 0.0, 0.0, 0.0, -1.649954832002638, 0.9871259042553746, -1.351489974074489, 1.0840647948061628, 0.0, 0.0, 0.0, 0.0, 0.0, 0.0, 0.0, 0.0, 0.0, 0.0, 0.0, 0.0]n= 4\n"
     ]
    },
    {
     "data": {
      "text/plain": [
       "0"
      ]
     },
     "execution_count": 9,
     "metadata": {},
     "output_type": "execute_result"
    }
   ],
   "source": [
    "r(x) = exp(-x[1]^2)\n",
    "r_x(x) = -2*x[1]*exp(-x[1]^2)\n",
    "r_y(x) = 0\n",
    "\n",
    "u_ex(x) = (x[1]^2 + x[2]^2  - 1)^2*r(x)\n",
    "∇Δu_ex(x) = ∇(Δ(u_ex))(x)\n",
    "f(x) = Δ(Δ(u_ex))(x)+ α(x)⋅u_ex(x)\n",
    "\n",
    "∇u_ex(x) = VectorValue(4*x[1]*(x[1]^2 + x[2]^2  - 1)*r(x) + (x[1]^2 + x[2]^2  - 1)^2*r_x(x),\n",
    "                    4*x[2]*(x[1]^2 + x[2]^2  - 1)*r(x) + (x[1]^2 + x[2]^2  - 1)^2*r_y(x))\n",
    "\n",
    "n = 2^2\n",
    "test_rhs_CIP(order=2, n=n, u_ex=u_ex, ∇u_ex=∇u_ex, ∇Δu_ex=∇Δu_ex, f=f )\n"
   ]
  },
  {
   "cell_type": "code",
   "execution_count": 10,
   "id": "22ec3bfe-a331-4aef-b081-cb54dc79b885",
   "metadata": {
    "tags": []
   },
   "outputs": [
    {
     "name": "stdout",
     "output_type": "stream",
     "text": [
      "Info    : Reading 'circle/circle_1.msh'...\n",
      "Info    : 3 entities\n",
      "Info    : 60 nodes\n",
      "Info    : 119 elements\n",
      "Info    : Done reading 'circle/circle_1.msh'\n",
      "b = [-0.16924613442328035, -0.19042202553265522, -0.13334927836834246, -0.21864976294737082, -0.3561309834125693, -0.3803518211322136, -0.4072927064259645, -0.26471964071084214, -0.3355355553853989, -0.2519681012904279, -0.11577812435691127, -0.13831557760287158, -0.1761443149825231, -0.21158529503879542, -0.1960467853201123, -0.2790391406589514, -0.35641301853374735, -0.5038317209461302, -0.5030713139083154, -0.37629478138365124, -0.23641762169090075, -0.1637792950468446, -0.14435753173973664, 0.0, 0.0, 0.0, 0.0, 0.0, 0.0, 0.0, -0.06806432563509764, -0.10663681963805512, -0.17494331739845684, -0.07521220271121262, -0.18073296751099777, -0.10729303751795961, 0.0, 0.0, 0.0, 0.0, 0.0, 0.0, -0.08067667610694712, -0.07763358045688803, -0.09227932523902192, -0.0997094479231608, -0.24254276284131887, -0.055250888818258896, -0.0338943584175101, -0.1045096633412993, 0.041676926874095695, -0.0860350636882452, -0.16210149549633235, -0.09169570272702188, 0.0, 0.0, 0.0, 0.0, 0.0, 0.0, -0.5152984792597972, 0.4272627308080473, 0.35670832889246595, -0.8851602870972735, 0.623818252615486, 0.6978432104702884, -0.5692624756466089, 0.36941312772996426, 0.47417913719470084, -1.204446451655681, 0.7941675503005167, 1.0293463607997786, -1.6861136542998902, 0.9313929873304524, 1.680868115335059, 0.3685832136215067, 0.7550799980964897, 0.0, -1.0296699123551536, 1.0269370246685183, 0.5194594157384222, 0.3070288812405555, 0.0, 0.5783226659813665, 0.0, -0.755189343281017, 0.3534799481759595, -1.3040757224182074, 0.8579442974769774, 1.1056305591424114, -1.0966390921493199, 1.0265881027128747, 0.4929039312989014, 0.8266051900231843, 0.0, 0.5511648451823575, 0.0, 0.656074557965132, 0.0, 0.5665627195369622, 0.0, 0.639972134010106, 0.0, 1.1520792947131988, 0.0, 1.5251653594537735, 0.0, 0.5027191493222202, 0.0, 1.1989087167652164, 0.0, 1.1532931814202305, 0.0, 0.0, 0.0, 0.0, 0.0, 0.0, 0.0, 0.0, 0.0, 0.0, 0.0, 0.0, 0.0, 1.373793849017026, 0.0, 0.9864144541520254, 0.0, 0.0, 0.0, 0.0, 0.0, -0.7796377629468656, 0.3850303187098821, 0.7675954467174386, -1.0858993536662964, 1.0694150375280087, 0.6414918361893747, 0.4615900951270924, 0.0, 0.30735938197626606, 0.0, 0.0, 0.0, 0.0, 0.0, 0.0, 0.0, 0.0, 0.0, 0.0, 0.0, 0.0, 0.0, 0.0, -1.3968195594340427, -0.9985114208310343, 0.0, 0.0, 0.0, 0.0, 0.0, 0.0, 0.0, 0.0, 0.0, 0.0, 0.0, -0.6967185568107908, -0.5954089763810282, -0.7166516181480329, -1.601587432535344, -1.2651407057945054, -0.7101438690066777, -1.2448277128604603, -0.568461674414376, 0.0, 0.0, 0.0, 0.0, 0.0, 0.0, 0.0, 0.0, 0.0, 0.0, 0.0, 0.0, 0.0, 0.0, 0.0, 0.0, 0.0, 0.0, 0.0, 0.0, 0.0, -1.649954832002638, 0.9871259042553746, -1.351489974074489, 1.0840647948061628, 0.0, 0.0, 0.0, 0.0, 0.0, 0.0, 0.0, 0.0, 0.0, 0.0, 0.0, 0.0]n= 4\n"
     ]
    },
    {
     "data": {
      "text/plain": [
       "0"
      ]
     },
     "execution_count": 10,
     "metadata": {},
     "output_type": "execute_result"
    }
   ],
   "source": [
    "∇u_ex(x) = ∇(u_ex)(x)\n",
    "n = 2^2\n",
    "test_rhs_CIP(order=2, n=n, u_ex=u_ex, ∇u_ex=∇u_ex, ∇Δu_ex=∇Δu_ex, f=f )\n"
   ]
  },
  {
   "cell_type": "code",
   "execution_count": null,
   "id": "793cb5c2-df92-4822-8889-4cb23e5a691a",
   "metadata": {},
   "outputs": [],
   "source": []
  }
 ],
 "metadata": {
  "kernelspec": {
   "display_name": "Julia 1.8.5",
   "language": "julia",
   "name": "julia-1.8"
  },
  "language_info": {
   "file_extension": ".jl",
   "mimetype": "application/julia",
   "name": "julia",
   "version": "1.8.5"
  }
 },
 "nbformat": 4,
 "nbformat_minor": 5
}
